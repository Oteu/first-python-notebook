{
 "cells": [
  {
   "cell_type": "code",
   "execution_count": 14,
   "metadata": {},
   "outputs": [],
   "source": [
    "import pandas as pd\n",
    "#from .info() we find the column called “contributor_zip”\n",
    "#from .value_counts() we find there are 28,260 contributions from a single zip code 95605. (That’s 106 times more contributions than the next highest zip code.) Are all these contributions to a single committee?  \n",
    "#I found this above code snippet from the jupyter help function. Help>pandas>Tutorials (on left column towards top)>Chapter 3> “3.1 Selecting only noise complaints”\n",
    "#We find that 28,612 contributions were made to the committee called “CALIFORNIA CORRECTIONAL PEACE OFFICERS ASSOCIATION TRUTH IN AMERICAN GOVERNMENT FUND; NO ON PROPOSITION 62, YES ON PROPOSITION 66... “\n",
    "#The closest answer to the question is “almost”. Out of the 28,260 contributions from zip code 95065, only eight went to other committees. Those eight contributions were divided among six different committees. (Note: I just eyeball counted the other committees at this point.)\n",
    "#Interesting."
   ]
  },
  {
   "cell_type": "code",
   "execution_count": 15,
   "metadata": {
    "collapsed": true
   },
   "outputs": [],
   "source": [
    "contribs = pd.read_csv(\"http://www.firstpythonnotebook.org/_static/contributions.csv\")"
   ]
  },
  {
   "cell_type": "code",
   "execution_count": 16,
   "metadata": {},
   "outputs": [
    {
     "name": "stdout",
     "output_type": "stream",
     "text": [
      "<class 'pandas.core.frame.DataFrame'>\n",
      "RangeIndex: 56379 entries, 0 to 56378\n",
      "Data columns (total 13 columns):\n",
      "calaccess_committee_id          56379 non-null int64\n",
      "committee_name                  56379 non-null object\n",
      "calaccess_filing_id             56379 non-null int64\n",
      "date_received                   56379 non-null object\n",
      "contributor_lastname            56375 non-null object\n",
      "contributor_firstname           53411 non-null object\n",
      "contributor_city                56369 non-null object\n",
      "contributor_state               56363 non-null object\n",
      "contributor_zip                 56366 non-null object\n",
      "contributor_employer            48572 non-null object\n",
      "contributor_occupation          53273 non-null object\n",
      "contributor_is_self_employed    56379 non-null bool\n",
      "amount                          56379 non-null float64\n",
      "dtypes: bool(1), float64(1), int64(2), object(9)\n",
      "memory usage: 3.3+ MB\n"
     ]
    }
   ],
   "source": [
    "contribs.info()"
   ]
  },
  {
   "cell_type": "code",
   "execution_count": 17,
   "metadata": {},
   "outputs": [
    {
     "data": {
      "text/plain": [
       "95605         28620\n",
       "95814           269\n",
       "94025           228\n",
       "94114           185\n",
       "94303           173\n",
       "94941           162\n",
       "94611           150\n",
       "94301           138\n",
       "94306           136\n",
       "94115           130\n",
       "94901           126\n",
       "94110           126\n",
       "94705           114\n",
       "94707           110\n",
       "95062           103\n",
       "93105           100\n",
       "92115            93\n",
       "90265            91\n",
       "94109            90\n",
       "94131            85\n",
       "90272            85\n",
       "94703            85\n",
       "95125            82\n",
       "94010            82\n",
       "95060            82\n",
       "95616            82\n",
       "94596            80\n",
       "92103            80\n",
       "95472            80\n",
       "94708            80\n",
       "              ...  \n",
       "55447             1\n",
       "92130-2236        1\n",
       "92065-5583        1\n",
       "91202-1008        1\n",
       "94627             1\n",
       "95822-2533        1\n",
       "5660              1\n",
       "95687-3115        1\n",
       "941222939         1\n",
       "85262-4668        1\n",
       "95663             1\n",
       "20879-4627        1\n",
       "92104-4733        1\n",
       "33704             1\n",
       "33706             1\n",
       "95682-8765        1\n",
       "92101-6025        1\n",
       "94118-2754        1\n",
       "95814-4439        1\n",
       "92123-2637        1\n",
       "76063             1\n",
       "93618             1\n",
       "95046             1\n",
       "92109-2376        1\n",
       "30033             1\n",
       "95044             1\n",
       "92571             1\n",
       "95616-3814        1\n",
       "92109-6506        1\n",
       "92673-3236        1\n",
       "Name: contributor_zip, Length: 4028, dtype: int64"
      ]
     },
     "execution_count": 17,
     "metadata": {},
     "output_type": "execute_result"
    }
   ],
   "source": [
    "contribs.contributor_zip.value_counts()"
   ]
  },
  {
   "cell_type": "code",
   "execution_count": 18,
   "metadata": {
    "collapsed": true
   },
   "outputs": [],
   "source": [
    "zipcode = contribs[contribs['contributor_zip'] == \"95605\"]"
   ]
  },
  {
   "cell_type": "code",
   "execution_count": 19,
   "metadata": {},
   "outputs": [
    {
     "data": {
      "text/plain": [
       "CALIFORNIA CORRECTIONAL PEACE OFFICERS ASSOCIATION TRUTH IN AMERICAN GOVERNMENT FUND; NO ON PROPOSITION 62, YES ON PROPOSITION 66 (NON-PROFIT 501 (C) 5)                                           28612\n",
       "NEWSOM BALLOT MEASURE COMMITTEE; SAFETY FOR ALL, YES ON PROP. 63,                                                                                                                                      2\n",
       "YES ON 67 - CALIFORNIANS AGAINST WASTE - PROTECT THE PLASTIC BAN (NON-PROFIT 501 (C) (4))                                                                                                              2\n",
       "CALIFORNIANS FOR JUSTICE AND PUBLIC SAFETY, NO ON PROPOSITION 34                                                                                                                                       1\n",
       "CALIFORNIANS TO MEND, NOT END, THE DEATH PENALTY. NO ON PROP 62, YES ON PROP 66. SUPPORTED BY PROSECUTORS, LAW ENFORCEMENT, AND FAMILIES OF VICTIMS.                                                   1\n",
       "YES ON 67 - PROTECT THE PLASTIC BAG BAN, SPONSORED BY ENVIRONMENTAL AND OCEAN PROTECTION ORGANIZATIONS, BUSINESSES INCLUDING GROCERS AND REUSABLE BAG MAKERS, AND OTHER NONPROFIT ORGANIZATIONS        1\n",
       "COALITION FOR CIVIL LIBERTIES - NO ON 63, A PROJECT OF CALIFORNIA RIFLE & PISTOL ASSOCIATION                                                                                                           1\n",
       "Name: committee_name, dtype: int64"
      ]
     },
     "execution_count": 19,
     "metadata": {},
     "output_type": "execute_result"
    }
   ],
   "source": [
    "zipcode.committee_name.value_counts()"
   ]
  },
  {
   "cell_type": "code",
   "execution_count": 20,
   "metadata": {},
   "outputs": [
    {
     "data": {
      "text/html": [
       "<div>\n",
       "<style>\n",
       "    .dataframe thead tr:only-child th {\n",
       "        text-align: right;\n",
       "    }\n",
       "\n",
       "    .dataframe thead th {\n",
       "        text-align: left;\n",
       "    }\n",
       "\n",
       "    .dataframe tbody tr th {\n",
       "        vertical-align: top;\n",
       "    }\n",
       "</style>\n",
       "<table border=\"1\" class=\"dataframe\">\n",
       "  <thead>\n",
       "    <tr style=\"text-align: right;\">\n",
       "      <th></th>\n",
       "      <th>index</th>\n",
       "      <th>committee_name</th>\n",
       "    </tr>\n",
       "  </thead>\n",
       "  <tbody>\n",
       "    <tr>\n",
       "      <th>0</th>\n",
       "      <td>CALIFORNIA CORRECTIONAL PEACE OFFICERS ASSOCIA...</td>\n",
       "      <td>28612</td>\n",
       "    </tr>\n",
       "    <tr>\n",
       "      <th>1</th>\n",
       "      <td>NEWSOM BALLOT MEASURE COMMITTEE; SAFETY FOR AL...</td>\n",
       "      <td>2</td>\n",
       "    </tr>\n",
       "    <tr>\n",
       "      <th>2</th>\n",
       "      <td>YES ON 67 - CALIFORNIANS AGAINST WASTE - PROTE...</td>\n",
       "      <td>2</td>\n",
       "    </tr>\n",
       "    <tr>\n",
       "      <th>3</th>\n",
       "      <td>CALIFORNIANS FOR JUSTICE AND PUBLIC SAFETY, NO...</td>\n",
       "      <td>1</td>\n",
       "    </tr>\n",
       "    <tr>\n",
       "      <th>4</th>\n",
       "      <td>CALIFORNIANS TO MEND, NOT END, THE DEATH PENAL...</td>\n",
       "      <td>1</td>\n",
       "    </tr>\n",
       "    <tr>\n",
       "      <th>5</th>\n",
       "      <td>YES ON 67 - PROTECT THE PLASTIC BAG BAN, SPONS...</td>\n",
       "      <td>1</td>\n",
       "    </tr>\n",
       "    <tr>\n",
       "      <th>6</th>\n",
       "      <td>COALITION FOR CIVIL LIBERTIES - NO ON 63, A PR...</td>\n",
       "      <td>1</td>\n",
       "    </tr>\n",
       "  </tbody>\n",
       "</table>\n",
       "</div>"
      ],
      "text/plain": [
       "                                               index  committee_name\n",
       "0  CALIFORNIA CORRECTIONAL PEACE OFFICERS ASSOCIA...           28612\n",
       "1  NEWSOM BALLOT MEASURE COMMITTEE; SAFETY FOR AL...               2\n",
       "2  YES ON 67 - CALIFORNIANS AGAINST WASTE - PROTE...               2\n",
       "3  CALIFORNIANS FOR JUSTICE AND PUBLIC SAFETY, NO...               1\n",
       "4  CALIFORNIANS TO MEND, NOT END, THE DEATH PENAL...               1\n",
       "5  YES ON 67 - PROTECT THE PLASTIC BAG BAN, SPONS...               1\n",
       "6  COALITION FOR CIVIL LIBERTIES - NO ON 63, A PR...               1"
      ]
     },
     "execution_count": 20,
     "metadata": {},
     "output_type": "execute_result"
    }
   ],
   "source": [
    "zipcode.committee_name.value_counts().reset_index()"
   ]
  },
  {
   "cell_type": "code",
   "execution_count": 22,
   "metadata": {},
   "outputs": [
    {
     "ename": "AttributeError",
     "evalue": "'DataFrame' object has no attribute 'peek'",
     "output_type": "error",
     "traceback": [
      "\u001b[1;31m\u001b[0m",
      "\u001b[1;31mAttributeError\u001b[0mTraceback (most recent call last)",
      "\u001b[1;32m<ipython-input-22-91f51042f816>\u001b[0m in \u001b[0;36m<module>\u001b[1;34m()\u001b[0m\n\u001b[1;32m----> 1\u001b[1;33m \u001b[0mzipcode\u001b[0m\u001b[1;33m.\u001b[0m\u001b[0mpeek\u001b[0m\u001b[1;33m(\u001b[0m\u001b[1;33m)\u001b[0m\u001b[1;33m\u001b[0m\u001b[0m\n\u001b[0m",
      "\u001b[1;32mc:\\code\\first-python-notebook\\lib\\site-packages\\pandas\\core\\generic.pyc\u001b[0m in \u001b[0;36m__getattr__\u001b[1;34m(self, name)\u001b[0m\n\u001b[0;32m   3079\u001b[0m             \u001b[1;32mif\u001b[0m \u001b[0mname\u001b[0m \u001b[1;32min\u001b[0m \u001b[0mself\u001b[0m\u001b[1;33m.\u001b[0m\u001b[0m_info_axis\u001b[0m\u001b[1;33m:\u001b[0m\u001b[1;33m\u001b[0m\u001b[0m\n\u001b[0;32m   3080\u001b[0m                 \u001b[1;32mreturn\u001b[0m \u001b[0mself\u001b[0m\u001b[1;33m[\u001b[0m\u001b[0mname\u001b[0m\u001b[1;33m]\u001b[0m\u001b[1;33m\u001b[0m\u001b[0m\n\u001b[1;32m-> 3081\u001b[1;33m             \u001b[1;32mreturn\u001b[0m \u001b[0mobject\u001b[0m\u001b[1;33m.\u001b[0m\u001b[0m__getattribute__\u001b[0m\u001b[1;33m(\u001b[0m\u001b[0mself\u001b[0m\u001b[1;33m,\u001b[0m \u001b[0mname\u001b[0m\u001b[1;33m)\u001b[0m\u001b[1;33m\u001b[0m\u001b[0m\n\u001b[0m\u001b[0;32m   3082\u001b[0m \u001b[1;33m\u001b[0m\u001b[0m\n\u001b[0;32m   3083\u001b[0m     \u001b[1;32mdef\u001b[0m \u001b[0m__setattr__\u001b[0m\u001b[1;33m(\u001b[0m\u001b[0mself\u001b[0m\u001b[1;33m,\u001b[0m \u001b[0mname\u001b[0m\u001b[1;33m,\u001b[0m \u001b[0mvalue\u001b[0m\u001b[1;33m)\u001b[0m\u001b[1;33m:\u001b[0m\u001b[1;33m\u001b[0m\u001b[0m\n",
      "\u001b[1;31mAttributeError\u001b[0m: 'DataFrame' object has no attribute 'peek'"
     ]
    }
   ],
   "source": [
    "zipcode.peek()\n"
   ]
  },
  {
   "cell_type": "code",
   "execution_count": null,
   "metadata": {
    "collapsed": true
   },
   "outputs": [],
   "source": []
  },
  {
   "cell_type": "code",
   "execution_count": null,
   "metadata": {
    "collapsed": true
   },
   "outputs": [],
   "source": []
  },
  {
   "cell_type": "code",
   "execution_count": null,
   "metadata": {
    "collapsed": true
   },
   "outputs": [],
   "source": []
  }
 ],
 "metadata": {
  "kernelspec": {
   "display_name": "Python 2",
   "language": "python",
   "name": "python2"
  },
  "language_info": {
   "codemirror_mode": {
    "name": "ipython",
    "version": 2
   },
   "file_extension": ".py",
   "mimetype": "text/x-python",
   "name": "python",
   "nbconvert_exporter": "python",
   "pygments_lexer": "ipython2",
   "version": "2.7.13"
  }
 },
 "nbformat": 4,
 "nbformat_minor": 2
}
